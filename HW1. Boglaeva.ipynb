{
 "cells": [
  {
   "cell_type": "markdown",
   "id": "47e038b2",
   "metadata": {},
   "source": [
    "# Задача 1"
   ]
  },
  {
   "cell_type": "markdown",
   "id": "dc239da0",
   "metadata": {},
   "source": [
    "## Условие :\n",
    "На складе лежат разные фрукты в разном количестве.\n",
    "Нужно написать функцию, которая на вход принимает любое количество названий фруктов и их количество, \n",
    "а возвращает общее количество фруктов на складе"
   ]
  },
  {
   "cell_type": "code",
   "execution_count": 7,
   "id": "57809c63",
   "metadata": {},
   "outputs": [],
   "source": [
    "def fruts (**kwargs):\n",
    "    sum_frut = 0\n",
    "    for value in kwargs.values():\n",
    "        sum_frut += value\n",
    "    return sum_frut"
   ]
  },
  {
   "cell_type": "code",
   "execution_count": 10,
   "id": "07114889",
   "metadata": {},
   "outputs": [
    {
     "data": {
      "text/plain": [
       "20"
      ]
     },
     "execution_count": 10,
     "metadata": {},
     "output_type": "execute_result"
    }
   ],
   "source": [
    "sklad = {'apple':2, 'pine':1, 'vi':17}\n",
    "fruts(**sklad)"
   ]
  },
  {
   "cell_type": "markdown",
   "id": "7137fed7",
   "metadata": {},
   "source": [
    "# Задача2"
   ]
  },
  {
   "cell_type": "markdown",
   "id": "0ff34589",
   "metadata": {},
   "source": [
    "## Условие:\n",
    "Дан список с затратами на рекламу. Но в данных есть ошибки, некоторые затраты имеют отрицательную величину. \n",
    "Удалите такие значения из списка и посчитайте суммарные затраты\n"
   ]
  },
  {
   "cell_type": "code",
   "execution_count": 15,
   "id": "cc3ceb41",
   "metadata": {},
   "outputs": [],
   "source": [
    "market_error = [100, 125, -90, 345, 655, -1, 0, 200]"
   ]
  },
  {
   "cell_type": "code",
   "execution_count": 19,
   "id": "36e16e19",
   "metadata": {},
   "outputs": [
    {
     "data": {
      "text/plain": [
       "[100, 125, 345, 655, 0, 200]"
      ]
     },
     "execution_count": 19,
     "metadata": {},
     "output_type": "execute_result"
    }
   ],
   "source": [
    "marketing = [i for i in market_error if i>=0]\n",
    "marketing"
   ]
  },
  {
   "cell_type": "code",
   "execution_count": 20,
   "id": "53607e4e",
   "metadata": {},
   "outputs": [
    {
     "data": {
      "text/plain": [
       "1425"
      ]
     },
     "execution_count": 20,
     "metadata": {},
     "output_type": "execute_result"
    }
   ],
   "source": [
    "sum (marketing)"
   ]
  },
  {
   "cell_type": "markdown",
   "id": "a8a733fa",
   "metadata": {},
   "source": [
    "# Задача 3"
   ]
  },
  {
   "cell_type": "markdown",
   "id": "90223240",
   "metadata": {},
   "source": [
    "## Условие:\n",
    "Даны два списка: дата покупки и сумма покупок по датам.\n",
    "1. Найдите, какая выручка у компании в ноябре. Используйте list comprehensions\n",
    "2. Найдите выручку компании в зависимости от месяца. Для этого напишите функцию, которая на вход принимает список с датами и список с выручкой, а на выходе словарь, где ключи - это месяцы, а значения - это выручка.\n",
    "Используйте аннотирование типов."
   ]
  },
  {
   "cell_type": "code",
   "execution_count": 26,
   "id": "16fc9ab3",
   "metadata": {},
   "outputs": [],
   "source": [
    "date_check = ['2021-09-14', '2021-12-15', '2021-09-08', '2021-12-05', '2021-10-09', '2021-09-30', '2021-12-22', '2021-11-29', '2021-12-24', '2021-11-26', '2021-10-27', '2021-12-18', '2021-11-09', '2021-11-23', '2021-09-27', '2021-10-02', '2021-12-27', '2021-09-20', '2021-12-13', '2021-11-01', '2021-11-09', '2021-12-06', '2021-12-08', '2021-10-09', '2021-10-31', '2021-09-30', '2021-11-09', '2021-12-13', '2021-10-26', '2021-12-09']"
   ]
  },
  {
   "cell_type": "code",
   "execution_count": 45,
   "id": "c7855d26",
   "metadata": {},
   "outputs": [],
   "source": [
    "sum_check = [1270, 8413, 9028, 3703, 5739, 4095, 295, 4944, 5723, 3701, 4471, 651, 7037, 4274, 6275, 4988, 6930, 2971, 6592, 2004, 2822, 519, 3406, 2732, 5015, 2008, 316, 6333, 5700, 2887]"
   ]
  },
  {
   "cell_type": "code",
   "execution_count": 49,
   "id": "5f6fee85",
   "metadata": {},
   "outputs": [
    {
     "name": "stdout",
     "output_type": "stream",
     "text": [
      "Выручка компании в ноябре = 25098\n"
     ]
    }
   ],
   "source": [
    "revenue_nov = [sum_check[i] for i in range(len(date_check)) if date_check[i][5:7]=='11']\n",
    "print(f'Выручка компании в ноябре = {sum(revenue_nov)}')"
   ]
  },
  {
   "cell_type": "code",
   "execution_count": 62,
   "id": "40a72a17",
   "metadata": {},
   "outputs": [],
   "source": [
    "def month_revenue(date:list, check:list)->dict:\n",
    "    month_rev = {}\n",
    "    for i in range(len(date)):\n",
    "        a = month_rev.get(date[i][5:7], 0)\n",
    "        a += check[i]\n",
    "        month_rev[date[i][5:7]] = a\n",
    "    return month_rev\n"
   ]
  },
  {
   "cell_type": "code",
   "execution_count": 63,
   "id": "f5bc89d2",
   "metadata": {},
   "outputs": [
    {
     "data": {
      "text/plain": [
       "{'09': 25647, '12': 45452, '10': 28645, '11': 25098}"
      ]
     },
     "execution_count": 63,
     "metadata": {},
     "output_type": "execute_result"
    }
   ],
   "source": [
    "my_dict = month_revenue(date_check, sum_check)\n",
    "my_dict"
   ]
  },
  {
   "cell_type": "code",
   "execution_count": null,
   "id": "e2024607",
   "metadata": {},
   "outputs": [],
   "source": []
  }
 ],
 "metadata": {
  "kernelspec": {
   "display_name": "Python 3 (ipykernel)",
   "language": "python",
   "name": "python3"
  },
  "language_info": {
   "codemirror_mode": {
    "name": "ipython",
    "version": 3
   },
   "file_extension": ".py",
   "mimetype": "text/x-python",
   "name": "python",
   "nbconvert_exporter": "python",
   "pygments_lexer": "ipython3",
   "version": "3.9.13"
  }
 },
 "nbformat": 4,
 "nbformat_minor": 5
}
